{
 "cells": [
  {
   "cell_type": "markdown",
   "metadata": {},
   "source": [
    "This notebook is about reshaping a bit Alex's work (4_mnist_classifier notebook) to use the 1d-maxpooling after reindexing and also to use Chebishev coefficients for the filtering. "
   ]
  },
  {
   "cell_type": "code",
   "execution_count": 1,
   "metadata": {
    "collapsed": false
   },
   "outputs": [
    {
     "name": "stdout",
     "output_type": "stream",
     "text": [
      "/home/clement/Dropbox/MVA/Graphs in ML/project/graphConvNet\n"
     ]
    }
   ],
   "source": [
    "%cd .."
   ]
  },
  {
   "cell_type": "code",
   "execution_count": 2,
   "metadata": {
    "collapsed": false
   },
   "outputs": [],
   "source": [
    "# Imports\n",
    "import sys, os\n",
    "sys.path.insert(0,os.getcwd())  # add current folder to sources\n",
    "import numpy\n",
    "import tensorflow as tf\n",
    "import matplotlib.pyplot as plt\n",
    "\n",
    "from src.mnist import load_mnist  # helper to load MNIST data\n",
    "from src.GraphMaxPooling import GraphMaxPooling\n",
    "from src.GraphLayers import *\n",
    "\n",
    "%matplotlib inline"
   ]
  },
  {
   "cell_type": "markdown",
   "metadata": {},
   "source": [
    "# Data, coarsening, laplacians"
   ]
  },
  {
   "cell_type": "code",
   "execution_count": 3,
   "metadata": {
    "collapsed": false
   },
   "outputs": [],
   "source": [
    "# Load mnist dataset\n",
    "training_mnist = load_mnist(dataset='training')\n",
    "testing_mnist = load_mnist(dataset='testing')\n",
    "\n",
    "training_data = numpy.reshape(training_mnist[0], [training_mnist[0].shape[0],28*28])\n",
    "training_data = training_data/255.0\n",
    "training_labels = training_mnist[1]\n",
    "training_cats = numpy.zeros([training_labels.shape[0], 10])\n",
    "for i in range(0,training_labels.shape[0]):\n",
    "    training_cats[i][training_labels[i]]=1\n",
    "    \n",
    "testing_data = numpy.reshape(testing_mnist[0], [testing_mnist[0].shape[0],28*28])\n",
    "testing_data = testing_data/255.0\n",
    "testing_labels = testing_mnist[1]\n",
    "testing_cats = numpy.zeros([testing_labels.shape[0], 10])\n",
    "for i in range(0,testing_labels.shape[0]):\n",
    "    testing_cats[i][testing_labels[i]]=1"
   ]
  },
  {
   "cell_type": "code",
   "execution_count": 4,
   "metadata": {
    "collapsed": false
   },
   "outputs": [
    {
     "data": {
      "image/png": "[encoded data removed]",
      "text/plain": [
       "<matplotlib.figure.Figure at 0x7faac3299550>"
      ]
     },
     "metadata": {},
     "output_type": "display_data"
    }
   ],
   "source": [
    "# use the GraphMaxPooling class to build a grid and perform the coarsening\n",
    "W = GraphMaxPooling.generate_grid(*training_mnist[0][0].shape)\n",
    "foo_pooling = GraphMaxPooling(W, 4)\n",
    "foo_pooling.plot_pooled_images(training_mnist[0][0].reshape((-1,)))  # plot what happens"
   ]
  },
  {
   "cell_type": "code",
   "execution_count": 5,
   "metadata": {
    "collapsed": false
   },
   "outputs": [],
   "source": [
    "# now we retrieve all the new ordering and we add the virtuals nodes and reshape the signal\n",
    "# to clean matrices X_train and X_test\n",
    "\n",
    "ordering = foo_pooling.new_order\n",
    "init_dim = 28*28  # initial dimension of the images\n",
    "n_virtuals = len(ordering) - init_dim  # number of virtual nodes to add\n",
    "\n",
    "# First for X_train\n",
    "X_train = training_mnist[0].reshape((-1, init_dim))  # flatten images\n",
    "X_train = np.hstack((X_train, np.zeros((X_train.shape[0], n_virtuals))))  # add zeros for virtuals\n",
    "X_train = X_train[:, ordering]  # reorder\n",
    "\n",
    "# Then for X_test\n",
    "X_test = testing_mnist[0].reshape((-1, init_dim))  # flatten images\n",
    "X_test = np.hstack((X_test, np.zeros((X_test.shape[0], n_virtuals))))  # add zeros for virtuals\n",
    "X_test = X_test[:, ordering]  # reorder"
   ]
  },
  {
   "cell_type": "code",
   "execution_count": 6,
   "metadata": {
    "collapsed": false
   },
   "outputs": [
    {
     "name": "stdout",
     "output_type": "stream",
     "text": [
      "X_train: (60000, 1056), including 784 true nodes and 272 virtual nodes\n",
      "X_test:  (10000, 1056), including 784 true nodes and 272 virtual nodes\n"
     ]
    }
   ],
   "source": [
    "print(\"X_train: {}, including {} true nodes and {} virtual nodes\".format(X_train.shape, init_dim, n_virtuals))\n",
    "print(\"X_test:  {}, including {} true nodes and {} virtual nodes\".format(X_test.shape, init_dim, n_virtuals))"
   ]
  },
  {
   "cell_type": "code",
   "execution_count": 7,
   "metadata": {
    "collapsed": false
   },
   "outputs": [
    {
     "name": "stdout",
     "output_type": "stream",
     "text": [
      "[(1056, 1056), (528, 528), (264, 264), (132, 132), (66, 66)]\n"
     ]
    }
   ],
   "source": [
    "# Now we retrieve all the Laplacians\n",
    "laplacians = foo_pooling.get_laplacians(how='unn')\n",
    "laplacians = [np.array(L, dtype=np.float32) for L in laplacians]  # cast to float32\n",
    "print([L.shape for L in laplacians])"
   ]
  },
  {
   "cell_type": "markdown",
   "metadata": {},
   "source": [
    "And that's all we need. Now we will (in the next section) build our network, as if we were dealing with 1d signals (for the max-pooling part). The only tricky part is to implement the filters using Chebyshev. "
   ]
  },
  {
   "cell_type": "markdown",
   "metadata": {},
   "source": [
    "# Building the network"
   ]
  },
  {
   "cell_type": "markdown",
   "metadata": {},
   "source": [
    "To build our CNN we use the objects from the GraphLayers module. The GraphConv objects take as input a symbolic tensor which must be the output attribute from the previous layer."
   ]
  },
  {
   "cell_type": "code",
   "execution_count": 8,
   "metadata": {
    "collapsed": true
   },
   "outputs": [],
   "source": [
    "# We instantiate Session object\n",
    "tf.reset_default_graph()\n",
    "sess = tf.InteractiveSession()"
   ]
  },
  {
   "cell_type": "code",
   "execution_count": 9,
   "metadata": {
    "collapsed": true
   },
   "outputs": [],
   "source": [
    "X_input = tf.placeholder(tf.float32, [None, laplacians[0].shape[0]])  # X_train or X_test\n",
    "X_input_ = tf.expand_dims(X_input, 2)  # add depth dimension\n",
    "\n",
    "GConv1 = GraphConv(X_input_, K=5, F=10, L=laplacians[0])\n",
    "\n",
    "GConv1.max_pool()\n",
    "\n",
    "GConv2 = GraphConv(GConv1.output, K=5, F=2, L=laplacians[1])  # 2 filters on the 10 previous filters = depth 20\n",
    "\n",
    "GConv2.max_pool()\n",
    "\n",
    "GConv3 = GraphConv(GConv2.output, K=5, F=2, L=laplacians[2])  # 2 filters on the 20 previous filters = depth 40\n",
    "\n",
    "GConv3.max_pool()\n",
    "\n",
    "#GConv4 = GraphConv(GConv3.output, K=5, F=2, L=laplacians[3])  # 2 filters on the 40 previous filters = depth 80\n",
    "\n",
    "#GConv4.max_pool()\n",
    "\n",
    "dense1 = Dense(GConv3.output, u=256)\n",
    "dense1.relu()\n",
    "\n",
    "dense2 = Dense(dense1.output, u=10)\n",
    "dense2.sofmax()\n",
    "\n",
    "ygcnn = dense2.output\n",
    "\n",
    "# placeholder for the labels\n",
    "y = tf.placeholder(tf.float32, shape=[None, 10])"
   ]
  },
  {
   "cell_type": "markdown",
   "metadata": {
    "collapsed": true
   },
   "source": [
    "# Training phase"
   ]
  },
  {
   "cell_type": "markdown",
   "metadata": {},
   "source": [
    "Train phase (copied from 4_mnist_classifier.ipynb)"
   ]
  },
  {
   "cell_type": "code",
   "execution_count": 10,
   "metadata": {
    "collapsed": true
   },
   "outputs": [],
   "source": [
    "# Define Loss\n",
    "cross_entropy = tf.reduce_mean(\n",
    "    -tf.reduce_sum(y * tf.log(ygcnn), reduction_indices=[1]))\n",
    "weights = tf.trainable_variables()\n",
    "weights_decay = tf.add_n([tf.nn.l2_loss(v) for v in weights])*0.001\n",
    "loss = tf.add(cross_entropy, weights_decay)\n",
    "train_step = tf.train.AdamOptimizer(1e-4).minimize(loss)\n",
    "correct_prediction = tf.equal(tf.argmax(ygcnn,1), tf.argmax(y, 1))\n",
    "accuracy = tf.reduce_mean(tf.cast(correct_prediction, tf.float32))"
   ]
  },
  {
   "cell_type": "code",
   "execution_count": 11,
   "metadata": {
    "collapsed": true
   },
   "outputs": [],
   "source": [
    "# We initialize the values\n",
    "sess.run(tf.global_variables_initializer())"
   ]
  },
  {
   "cell_type": "code",
   "execution_count": 12,
   "metadata": {
    "collapsed": false
   },
   "outputs": [
    {
     "name": "stdout",
     "output_type": "stream",
     "text": [
      "step 0, training accuracy 0.09, testing accuracy 0.12\n",
      "step 100, training accuracy 0.71, testing accuracy 0.83\n",
      "step 200, training accuracy 0.79, testing accuracy 0.85\n",
      "step 300, training accuracy 0.89, testing accuracy 0.86\n",
      "step 400, training accuracy 0.89, testing accuracy 0.92\n",
      "step 500, training accuracy 0.94, testing accuracy 0.87\n",
      "step 600, training accuracy 0.9, testing accuracy 0.95\n",
      "step 700, training accuracy 0.95, testing accuracy 0.92\n",
      "step 800, training accuracy 0.91, testing accuracy 0.93\n",
      "step 900, training accuracy 0.94, testing accuracy 0.9\n"
     ]
    }
   ],
   "source": [
    "# Train\n",
    "for i in range(1000):\n",
    "    idx = numpy.random.permutation(training_data.shape[0])\n",
    "    idx = idx[0:100]\n",
    "    if i % 100 == 0:\n",
    "        train_accuracy = accuracy.eval(feed_dict={X_input:X_train[idx], y: training_cats[idx]})\n",
    "        idx = numpy.random.permutation(testing_data.shape[0])\n",
    "        idx = idx[0:100]\n",
    "        test_accuracy = accuracy.eval(feed_dict={X_input: X_test[idx], y:testing_cats[idx]})\n",
    "        print(\"step %d, training accuracy %g, testing accuracy %g\"%(i, train_accuracy, test_accuracy))\n",
    "    train_step.run(feed_dict={X_input: X_train[idx], y: training_cats[idx]})"
   ]
  },
  {
   "cell_type": "code",
   "execution_count": null,
   "metadata": {
    "collapsed": true
   },
   "outputs": [],
   "source": []
  }
 ],
 "metadata": {
  "anaconda-cloud": {},
  "kernelspec": {
   "display_name": "Python [conda root]",
   "language": "python",
   "name": "conda-root-py"
  },
  "language_info": {
   "codemirror_mode": {
    "name": "ipython",
    "version": 3
   },
   "file_extension": ".py",
   "mimetype": "text/x-python",
   "name": "python",
   "nbconvert_exporter": "python",
   "pygments_lexer": "ipython3",
   "version": "3.5.2"
  }
 },
 "nbformat": 4,
 "nbformat_minor": 1
}
