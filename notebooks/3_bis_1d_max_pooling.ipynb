{
 "cells": [
  {
   "cell_type": "code",
   "execution_count": 1,
   "metadata": {
    "collapsed": false
   },
   "outputs": [
    {
     "name": "stdout",
     "output_type": "stream",
     "text": [
      "/home/clement/Dropbox/MVA/Graphs in ML/project/graphConvNet\n"
     ]
    }
   ],
   "source": [
    "%cd .."
   ]
  },
  {
   "cell_type": "markdown",
   "metadata": {},
   "source": [
    "In this notebook we demonstrate how to perform the graph coarsening and max-pooling with the same time complexity than for a 1-dimensionnal maxpooling."
   ]
  },
  {
   "cell_type": "code",
   "execution_count": 2,
   "metadata": {
    "collapsed": true
   },
   "outputs": [],
   "source": [
    "import scipy.misc\n",
    "import matplotlib.pyplot as plt\n",
    "from src.GraphMaxPooling import GraphMaxPooling\n",
    "%matplotlib inline"
   ]
  },
  {
   "cell_type": "code",
   "execution_count": 4,
   "metadata": {
    "collapsed": false
   },
   "outputs": [],
   "source": [
    "mnist = scipy.misc.imread(\"data/mnist.png\", flatten=True) / 255\n",
    "# reshape the signal to a vector, r\n",
    "x = mnist.reshape((-1,))"
   ]
  },
  {
   "cell_type": "code",
   "execution_count": 5,
   "metadata": {
    "collapsed": false
   },
   "outputs": [],
   "source": [
    "# take a grid as graph\n",
    "W = GraphMaxPooling.generate_grid(*mnist.shape)"
   ]
  },
  {
   "cell_type": "code",
   "execution_count": 6,
   "metadata": {
    "collapsed": true
   },
   "outputs": [],
   "source": [
    "# instantiate a pooling object to perform 4*(coarsening + maxpooling)\n",
    "foo_pooling = GraphMaxPooling(W, 8)"
   ]
  },
  {
   "cell_type": "code",
   "execution_count": 7,
   "metadata": {
    "collapsed": false
   },
   "outputs": [
    {
     "data": {
      "image/png": "[encoded data removed]",
      "text/plain": [
       "<matplotlib.figure.Figure at 0x7f4d10ff2198>"
      ]
     },
     "metadata": {},
     "output_type": "display_data"
    }
   ],
   "source": [
    "# plot all the W's from the coarsened graphs\n",
    "foo_pooling.plot_coarsened_W_s()"
   ]
  },
  {
   "cell_type": "code",
   "execution_count": 8,
   "metadata": {
    "collapsed": false
   },
   "outputs": [
    {
     "data": {
      "image/png": "[encoded data removed]",
      "text/plain": [
       "<matplotlib.figure.Figure at 0x7f4d0cf1c630>"
      ]
     },
     "metadata": {},
     "output_type": "display_data"
    }
   ],
   "source": [
    "# plot the signal reprojected on the initial graph\n",
    "foo_pooling.plot_pooled_images(x)"
   ]
  },
  {
   "cell_type": "code",
   "execution_count": 9,
   "metadata": {
    "collapsed": false
   },
   "outputs": [
    {
     "name": "stdout",
     "output_type": "stream",
     "text": [
      "[(1536, 1536), (768, 768), (384, 384), (192, 192), (96, 96), (48, 48), (24, 24), (12, 12), (6, 6)]\n"
     ]
    }
   ],
   "source": [
    "# for instance, let's retrieve the Laplacians for all scales\n",
    "laplacians = foo_pooling.get_laplacians(how='unn')\n",
    "print([l.shape for l in laplacians])"
   ]
  },
  {
   "cell_type": "code",
   "execution_count": 10,
   "metadata": {
    "collapsed": false
   },
   "outputs": [
    {
     "data": {
      "text/plain": [
       "array([ 0.        ,  0.98823529,  0.        ,  0.98431373,  0.        ,\n",
       "        0.        ,  0.57647061,  0.        ,  0.98823529,  0.98823529,\n",
       "        0.        ,  0.        ,  0.98823529,  0.98823529,  0.98823529,\n",
       "        0.37254903,  0.        ,  0.        ,  0.        ,  0.        ,\n",
       "        0.98431373,  0.        ,  0.        ,  0.        ])"
      ]
     },
     "execution_count": 10,
     "metadata": {},
     "output_type": "execute_result"
    }
   ],
   "source": [
    "# we can also get a specific pooled signal: e.g. what's the signal after 6 coasenings?\n",
    "foo_pooling.one_max_pooling(x, 6)"
   ]
  },
  {
   "cell_type": "raw",
   "metadata": {},
   "source": [
    "Be careful, the pooled signal always include the VIRTUAL NODES, this is the way it works... "
   ]
  },
  {
   "cell_type": "code",
   "execution_count": 11,
   "metadata": {
    "collapsed": false
   },
   "outputs": [
    {
     "data": {
      "text/plain": [
       "array([   0,   28,   29, ..., 1101, 1102, 1103])"
      ]
     },
     "execution_count": 11,
     "metadata": {},
     "output_type": "execute_result"
    }
   ],
   "source": [
    "# Finally (and most imoprtantely) we can retrieve the way we should reorder the nodes \n",
    "# before starting our network to get an efficient 1d like max-pooling\n",
    "foo_pooling.new_order"
   ]
  },
  {
   "cell_type": "raw",
   "metadata": {},
   "source": [
    "This is to be red as follows: foo_pooling.new_order[5] is the node to be put in 5th position. If the index it gives is not in the graph (for mnist it means >= 784) it means this node is a virtual one. "
   ]
  },
  {
   "cell_type": "markdown",
   "metadata": {},
   "source": [
    "## Computationnal time"
   ]
  },
  {
   "cell_type": "code",
   "execution_count": 12,
   "metadata": {
    "collapsed": false
   },
   "outputs": [
    {
     "name": "stdout",
     "output_type": "stream",
     "text": [
      "10000 loops, best of 3: 28.1 µs per loop\n"
     ]
    }
   ],
   "source": [
    "%timeit foo_pooling.max_pooling(x)"
   ]
  },
  {
   "cell_type": "raw",
   "metadata": {},
   "source": [
    "In fact once the reordering is done the maxpooling will be performed as a 1d maxpooling in tensorflow so this is not really important"
   ]
  },
  {
   "cell_type": "code",
   "execution_count": null,
   "metadata": {
    "collapsed": true
   },
   "outputs": [],
   "source": []
  }
 ],
 "metadata": {
  "anaconda-cloud": {},
  "kernelspec": {
   "display_name": "Python [conda root]",
   "language": "python",
   "name": "conda-root-py"
  },
  "language_info": {
   "codemirror_mode": {
    "name": "ipython",
    "version": 3
   },
   "file_extension": ".py",
   "mimetype": "text/x-python",
   "name": "python",
   "nbconvert_exporter": "python",
   "pygments_lexer": "ipython3",
   "version": "3.5.2"
  }
 },
 "nbformat": 4,
 "nbformat_minor": 1
}
