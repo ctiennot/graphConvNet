{
 "cells": [
  {
   "cell_type": "code",
   "execution_count": 40,
   "metadata": {
    "collapsed": true
   },
   "outputs": [],
   "source": [
    "import scipy.misc\n",
    "import matplotlib.pyplot as plt\n",
    "from GraphMaxPooling import GraphMaxPooling\n",
    "%matplotlib inline"
   ]
  },
  {
   "cell_type": "code",
   "execution_count": 41,
   "metadata": {
    "collapsed": false
   },
   "outputs": [],
   "source": [
    "mnist = scipy.misc.imread(\"../drafts/mnist.png\", flatten=True) / 255\n",
    "# reshape the signal to a vector, r\n",
    "x = mnist.reshape((-1,))"
   ]
  },
  {
   "cell_type": "code",
   "execution_count": 42,
   "metadata": {
    "collapsed": false
   },
   "outputs": [],
   "source": [
    "# take a grid as graph\n",
    "W = GraphMaxPooling.generate_grid(*mnist.shape)"
   ]
  },
  {
   "cell_type": "code",
   "execution_count": 43,
   "metadata": {
    "collapsed": true
   },
   "outputs": [],
   "source": [
    "# instantiate a pooling object to perform 4*(coarsening + maxpooling)\n",
    "foo_pooling = GraphMaxPooling(W, 8)"
   ]
  },
  {
   "cell_type": "code",
   "execution_count": 44,
   "metadata": {
    "collapsed": false
   },
   "outputs": [
    {
     "data": {
      "image/png": "[encoded data removed]",
      "text/plain": [
       "<matplotlib.figure.Figure at 0x7f3e7a2f8940>"
      ]
     },
     "metadata": {},
     "output_type": "display_data"
    }
   ],
   "source": [
    "# plot all the W's from the coarsened graphs\n",
    "foo_pooling.plot_coarsened_W_s()"
   ]
  },
  {
   "cell_type": "code",
   "execution_count": 45,
   "metadata": {
    "collapsed": false
   },
   "outputs": [
    {
     "data": {
      "image/png": "[encoded data removed]",
      "text/plain": [
       "<matplotlib.figure.Figure at 0x7f3e7a42b630>"
      ]
     },
     "metadata": {},
     "output_type": "display_data"
    }
   ],
   "source": [
    "# plot the signal reprojected on the initial graph\n",
    "foo_pooling.plot_pooled_images(x)"
   ]
  },
  {
   "cell_type": "code",
   "execution_count": 46,
   "metadata": {
    "collapsed": false
   },
   "outputs": [
    {
     "name": "stdout",
     "output_type": "stream",
     "text": [
      "[(1536, 1536), (768, 768), (384, 384), (192, 192), (96, 96), (48, 48), (24, 24), (12, 12), (6, 6)]\n"
     ]
    }
   ],
   "source": [
    "# for instance, let's retrieve the Laplacians for all scales\n",
    "laplacians = foo_pooling.get_laplacians(how='unn')\n",
    "print([l.shape for l in laplacians])"
   ]
  },
  {
   "cell_type": "code",
   "execution_count": 47,
   "metadata": {
    "collapsed": false
   },
   "outputs": [
    {
     "data": {
      "text/plain": [
       "array([ 0.        ,  0.33725491,  0.        ,  0.98823529,  0.98431373,\n",
       "        0.        ,  0.98431373,  0.98823529,  0.98823529,  0.98823529,\n",
       "        0.        ,  0.        ,  0.        ,  0.        ,  0.        ,\n",
       "        0.        ,  0.        ,  0.        ,  0.        ,  0.        ,\n",
       "        0.98823529,  0.        ,  0.98823529,  0.        ])"
      ]
     },
     "execution_count": 47,
     "metadata": {},
     "output_type": "execute_result"
    }
   ],
   "source": [
    "# we can also get a specific pooled signal: e.g. what's the signal after 6 coasenings?\n",
    "foo_pooling.one_max_pooling(x, 6)"
   ]
  },
  {
   "cell_type": "raw",
   "metadata": {},
   "source": [
    "Be careful, the pooled signal always include the VIRTUAL NODES, this is the way it works... "
   ]
  },
  {
   "cell_type": "code",
   "execution_count": 48,
   "metadata": {
    "collapsed": false
   },
   "outputs": [
    {
     "data": {
      "text/plain": [
       "array([   0,   28,   56, ..., 1037, 1038, 1039])"
      ]
     },
     "execution_count": 48,
     "metadata": {},
     "output_type": "execute_result"
    }
   ],
   "source": [
    "# Finally (and most imoprtantely) we can retrieve the way we should reorder the nodes \n",
    "# before starting our network to get an efficient 1d like max-pooling\n",
    "foo_pooling.new_order"
   ]
  },
  {
   "cell_type": "raw",
   "metadata": {},
   "source": [
    "This is to be red as follows: foo_pooling.new_order[5] is the node to be put in 5th position. If the index it gives is not in the graph (for mnist it means >= 784) it means this node is a virtual one. "
   ]
  },
  {
   "cell_type": "markdown",
   "metadata": {},
   "source": [
    "## Computationnal time"
   ]
  },
  {
   "cell_type": "code",
   "execution_count": 50,
   "metadata": {
    "collapsed": false
   },
   "outputs": [
    {
     "name": "stdout",
     "output_type": "stream",
     "text": [
      "The slowest run took 7.32 times longer than the fastest. This could mean that an intermediate result is being cached.\n",
      "10000 loops, best of 3: 77.3 µs per loop\n"
     ]
    }
   ],
   "source": [
    "%timeit foo_pooling.max_pooling(x)"
   ]
  },
  {
   "cell_type": "raw",
   "metadata": {},
   "source": [
    "In fact once the reordering is done the maxpooling will be performed as a 1d maxpooling in tensorflow so this is not really important"
   ]
  }
 ],
 "metadata": {
  "anaconda-cloud": {},
  "kernelspec": {
   "display_name": "Python [conda root]",
   "language": "python",
   "name": "conda-root-py"
  },
  "language_info": {
   "codemirror_mode": {
    "name": "ipython",
    "version": 3
   },
   "file_extension": ".py",
   "mimetype": "text/x-python",
   "name": "python",
   "nbconvert_exporter": "python",
   "pygments_lexer": "ipython3",
   "version": "3.5.2"
  }
 },
 "nbformat": 4,
 "nbformat_minor": 1
}
